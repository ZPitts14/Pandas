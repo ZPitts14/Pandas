{
 "cells": [
  {
   "cell_type": "markdown",
   "metadata": {},
   "source": [
    "### Note\n",
    "* Instructions have been included for each segment. You do not have to follow them exactly, but they are included to help you think through the steps."
   ]
  },
  {
   "cell_type": "code",
   "execution_count": 234,
   "metadata": {},
   "outputs": [],
   "source": [
    "# Dependencies and Setup\n",
    "import pandas as pd\n",
    "import numpy as np\n",
    "\n",
    "# File to Load (Remember to Change These)\n",
    "purchase_data = \"Resources/purchase_data.csv\"\n",
    "\n",
    "# Read Purchasing File and store into Pandas data frame\n",
    "purchase_data_df = pd.read_csv(purchase_data)"
   ]
  },
  {
   "cell_type": "markdown",
   "metadata": {},
   "source": [
    "## Player Count"
   ]
  },
  {
   "cell_type": "markdown",
   "metadata": {},
   "source": [
    "* Display the total number of players\n"
   ]
  },
  {
   "cell_type": "code",
   "execution_count": 235,
   "metadata": {},
   "outputs": [
    {
     "data": {
      "text/plain": [
       "576"
      ]
     },
     "execution_count": 235,
     "metadata": {},
     "output_type": "execute_result"
    }
   ],
   "source": [
    "#Total Players\n",
    "unique = purchase_data_df[\"SN\"].nunique()\n",
    "unique"
   ]
  },
  {
   "cell_type": "markdown",
   "metadata": {},
   "source": [
    "## Purchasing Analysis (Total)"
   ]
  },
  {
   "cell_type": "markdown",
   "metadata": {},
   "source": [
    "* Run basic calculations to obtain number of unique items, average price, etc.\n",
    "\n",
    "\n",
    "* Create a summary data frame to hold the results\n",
    "\n",
    "\n",
    "* Optional: give the displayed data cleaner formatting\n",
    "\n",
    "\n",
    "* Display the summary data frame\n"
   ]
  },
  {
   "cell_type": "code",
   "execution_count": 236,
   "metadata": {},
   "outputs": [
    {
     "data": {
      "text/html": [
       "<style  type=\"text/css\" >\n",
       "</style><table id=\"T_55022616_df1f_11e9_ada9_38f9d35637c2\" ><thead>    <tr>        <th class=\"blank level0\" ></th>        <th class=\"col_heading level0 col0\" >Number of Unique Items</th>        <th class=\"col_heading level0 col1\" >Average Price</th>        <th class=\"col_heading level0 col2\" >Total Purchases</th>        <th class=\"col_heading level0 col3\" >Total Revenue</th>    </tr></thead><tbody>\n",
       "                <tr>\n",
       "                        <th id=\"T_55022616_df1f_11e9_ada9_38f9d35637c2level0_row0\" class=\"row_heading level0 row0\" >0</th>\n",
       "                        <td id=\"T_55022616_df1f_11e9_ada9_38f9d35637c2row0_col0\" class=\"data row0 col0\" >576</td>\n",
       "                        <td id=\"T_55022616_df1f_11e9_ada9_38f9d35637c2row0_col1\" class=\"data row0 col1\" >$3.05</td>\n",
       "                        <td id=\"T_55022616_df1f_11e9_ada9_38f9d35637c2row0_col2\" class=\"data row0 col2\" >780</td>\n",
       "                        <td id=\"T_55022616_df1f_11e9_ada9_38f9d35637c2row0_col3\" class=\"data row0 col3\" >$2,379.77</td>\n",
       "            </tr>\n",
       "    </tbody></table>"
      ],
      "text/plain": [
       "<pandas.io.formats.style.Styler at 0x11823e908>"
      ]
     },
     "execution_count": 236,
     "metadata": {},
     "output_type": "execute_result"
    }
   ],
   "source": [
    "#Number of Unique Items\n",
    "unique = purchase_data_df[\"SN\"].nunique()\n",
    "\n",
    "#Average Price\n",
    "average_price = purchase_data_df[\"Price\"].mean()\n",
    "\n",
    "#Number of Purchases\n",
    "total_purchases = purchase_data_df[\"Purchase ID\"].count()\n",
    "\n",
    "#Total Revenue\n",
    "total_revenue = purchase_data_df[\"Price\"].sum()\n",
    "\n",
    "#Summary Table of Results\n",
    "summary_df = pd.DataFrame({\"Number of Unique Items\":[unique],\n",
    "                           \"Average Price\":[average_price], \n",
    "                           \"Total Purchases\": [total_purchases], \n",
    "                           \"Total Revenue\": [total_revenue]})\n",
    "summary_df\n",
    "\n",
    "#Cleaner Format\n",
    "summary_df.style.format({'Average Price':\"${:,.2f}\",\n",
    "                         'Total Revenue': '${:,.2f}'})"
   ]
  },
  {
   "cell_type": "markdown",
   "metadata": {},
   "source": [
    "## Gender Demographics"
   ]
  },
  {
   "cell_type": "code",
   "execution_count": 237,
   "metadata": {},
   "outputs": [
    {
     "data": {
      "text/html": [
       "<style  type=\"text/css\" >\n",
       "</style><table id=\"T_55b7086a_df1f_11e9_ada9_38f9d35637c2\" ><thead>    <tr>        <th class=\"blank level0\" ></th>        <th class=\"col_heading level0 col0\" >Total Count</th>        <th class=\"col_heading level0 col1\" >Player Percentage</th>    </tr></thead><tbody>\n",
       "                <tr>\n",
       "                        <th id=\"T_55b7086a_df1f_11e9_ada9_38f9d35637c2level0_row0\" class=\"row_heading level0 row0\" >Male</th>\n",
       "                        <td id=\"T_55b7086a_df1f_11e9_ada9_38f9d35637c2row0_col0\" class=\"data row0 col0\" >484</td>\n",
       "                        <td id=\"T_55b7086a_df1f_11e9_ada9_38f9d35637c2row0_col1\" class=\"data row0 col1\" >84.03%</td>\n",
       "            </tr>\n",
       "            <tr>\n",
       "                        <th id=\"T_55b7086a_df1f_11e9_ada9_38f9d35637c2level0_row1\" class=\"row_heading level0 row1\" >Female</th>\n",
       "                        <td id=\"T_55b7086a_df1f_11e9_ada9_38f9d35637c2row1_col0\" class=\"data row1 col0\" >81</td>\n",
       "                        <td id=\"T_55b7086a_df1f_11e9_ada9_38f9d35637c2row1_col1\" class=\"data row1 col1\" >14.06%</td>\n",
       "            </tr>\n",
       "            <tr>\n",
       "                        <th id=\"T_55b7086a_df1f_11e9_ada9_38f9d35637c2level0_row2\" class=\"row_heading level0 row2\" >Other / Non-Disclosed</th>\n",
       "                        <td id=\"T_55b7086a_df1f_11e9_ada9_38f9d35637c2row2_col0\" class=\"data row2 col0\" >11</td>\n",
       "                        <td id=\"T_55b7086a_df1f_11e9_ada9_38f9d35637c2row2_col1\" class=\"data row2 col1\" >1.91%</td>\n",
       "            </tr>\n",
       "    </tbody></table>"
      ],
      "text/plain": [
       "<pandas.io.formats.style.Styler at 0x11823e6d8>"
      ]
     },
     "execution_count": 237,
     "metadata": {},
     "output_type": "execute_result"
    }
   ],
   "source": [
    "#Groupby Gender\n",
    "gender_stats = purchase_data_df.groupby(\"Gender\")\n",
    "\n",
    "#Total count of both Genders\n",
    "total_count_gender = gender_stats.nunique()[\"SN\"]\n",
    "\n",
    "#Find Percentage\n",
    "player_percentage = total_count_gender / unique * 100\n",
    "\n",
    "#Create DataFrame\n",
    "gender_demographics = pd.DataFrame({\"Total Count\": total_count_gender, \"Player Percentage\": player_percentage})\n",
    "\n",
    "#No Index\n",
    "gender_demographics.index.name = None\n",
    "\n",
    "#Create Table\n",
    "gender_demographics.sort_values([\"Total Count\"], ascending = False).style.format({\"Player Percentage\":\"{:.2f}%\"})\n"
   ]
  },
  {
   "cell_type": "markdown",
   "metadata": {},
   "source": [
    "* Percentage and Count of Male Players\n",
    "\n",
    "\n",
    "* Percentage and Count of Female Players\n",
    "\n",
    "\n",
    "* Percentage and Count of Other / Non-Disclosed\n",
    "\n",
    "\n"
   ]
  },
  {
   "cell_type": "markdown",
   "metadata": {},
   "source": [
    "\n",
    "## Purchasing Analysis (Gender)"
   ]
  },
  {
   "cell_type": "markdown",
   "metadata": {},
   "source": [
    "* Run basic calculations to obtain purchase count, avg. purchase price, avg. purchase total per person etc. by gender\n",
    "\n",
    "\n",
    "\n",
    "\n",
    "* Create a summary data frame to hold the results\n",
    "\n",
    "\n",
    "* Optional: give the displayed data cleaner formatting\n",
    "\n",
    "\n",
    "* Display the summary data frame"
   ]
  },
  {
   "cell_type": "code",
   "execution_count": 238,
   "metadata": {},
   "outputs": [
    {
     "data": {
      "text/html": [
       "<style  type=\"text/css\" >\n",
       "</style><table id=\"T_5703749c_df1f_11e9_ada9_38f9d35637c2\" ><thead>    <tr>        <th class=\"blank level0\" ></th>        <th class=\"col_heading level0 col0\" >Purchase Count</th>        <th class=\"col_heading level0 col1\" >Average Purchase Price</th>        <th class=\"col_heading level0 col2\" >Average Purchase Value</th>        <th class=\"col_heading level0 col3\" >Avg Purchase Total per Person</th>    </tr>    <tr>        <th class=\"index_name level0\" >Gender</th>        <th class=\"blank\" ></th>        <th class=\"blank\" ></th>        <th class=\"blank\" ></th>        <th class=\"blank\" ></th>    </tr></thead><tbody>\n",
       "                <tr>\n",
       "                        <th id=\"T_5703749c_df1f_11e9_ada9_38f9d35637c2level0_row0\" class=\"row_heading level0 row0\" >Female</th>\n",
       "                        <td id=\"T_5703749c_df1f_11e9_ada9_38f9d35637c2row0_col0\" class=\"data row0 col0\" >113</td>\n",
       "                        <td id=\"T_5703749c_df1f_11e9_ada9_38f9d35637c2row0_col1\" class=\"data row0 col1\" >$3.20</td>\n",
       "                        <td id=\"T_5703749c_df1f_11e9_ada9_38f9d35637c2row0_col2\" class=\"data row0 col2\" >$361.94</td>\n",
       "                        <td id=\"T_5703749c_df1f_11e9_ada9_38f9d35637c2row0_col3\" class=\"data row0 col3\" >$4.47</td>\n",
       "            </tr>\n",
       "            <tr>\n",
       "                        <th id=\"T_5703749c_df1f_11e9_ada9_38f9d35637c2level0_row1\" class=\"row_heading level0 row1\" >Male</th>\n",
       "                        <td id=\"T_5703749c_df1f_11e9_ada9_38f9d35637c2row1_col0\" class=\"data row1 col0\" >652</td>\n",
       "                        <td id=\"T_5703749c_df1f_11e9_ada9_38f9d35637c2row1_col1\" class=\"data row1 col1\" >$3.02</td>\n",
       "                        <td id=\"T_5703749c_df1f_11e9_ada9_38f9d35637c2row1_col2\" class=\"data row1 col2\" >$1,967.64</td>\n",
       "                        <td id=\"T_5703749c_df1f_11e9_ada9_38f9d35637c2row1_col3\" class=\"data row1 col3\" >$4.07</td>\n",
       "            </tr>\n",
       "            <tr>\n",
       "                        <th id=\"T_5703749c_df1f_11e9_ada9_38f9d35637c2level0_row2\" class=\"row_heading level0 row2\" >Other / Non-Disclosed</th>\n",
       "                        <td id=\"T_5703749c_df1f_11e9_ada9_38f9d35637c2row2_col0\" class=\"data row2 col0\" >15</td>\n",
       "                        <td id=\"T_5703749c_df1f_11e9_ada9_38f9d35637c2row2_col1\" class=\"data row2 col1\" >$3.35</td>\n",
       "                        <td id=\"T_5703749c_df1f_11e9_ada9_38f9d35637c2row2_col2\" class=\"data row2 col2\" >$50.19</td>\n",
       "                        <td id=\"T_5703749c_df1f_11e9_ada9_38f9d35637c2row2_col3\" class=\"data row2 col3\" >$4.56</td>\n",
       "            </tr>\n",
       "    </tbody></table>"
      ],
      "text/plain": [
       "<pandas.io.formats.style.Styler at 0x1061e0d68>"
      ]
     },
     "execution_count": 238,
     "metadata": {},
     "output_type": "execute_result"
    }
   ],
   "source": [
    "#Purchase Count\n",
    "purchase_count = gender_stats[\"Purchase ID\"].count()\n",
    "\n",
    "#Average Purchase Price for All Genders\n",
    "avg_purchase_price = gender_stats[\"Price\"].mean()\n",
    "\n",
    "#Total Purchase Value for All Genders\n",
    "avg_purchase_total = gender_stats[\"Price\"].sum()\n",
    "\n",
    "#Average Purchase Total by Gender\n",
    "avg_purchase_per_person = avg_purchase_total/total_count_gender\n",
    "\n",
    "#DataFrame with amounts\n",
    "gender_demographics = pd.DataFrame({\"Purchase Count\": purchase_count, \n",
    "                                    \"Average Purchase Price\": avg_purchase_price,\n",
    "                                    \"Average Purchase Value\":avg_purchase_total,\n",
    "                                    \"Avg Purchase Total per Person\": avg_purchase_per_person})\n",
    "#Index \n",
    "gender_demographics.index.name = \"Gender\"\n",
    "\n",
    "#Cleaner Formatting\n",
    "gender_demographics.style.format({\"Average Purchase Value\":\"${:,.2f}\",\n",
    "                                  \"Average Purchase Price\":\"${:,.2f}\",\n",
    "                                  \"Avg Purchase Total per Person\":\"${:,.2f}\"})\n"
   ]
  },
  {
   "cell_type": "markdown",
   "metadata": {},
   "source": [
    "## Age Demographics"
   ]
  },
  {
   "cell_type": "markdown",
   "metadata": {},
   "source": [
    "* Establish bins for ages\n",
    "\n",
    "\n",
    "* Categorize the existing players using the age bins. Hint: use pd.cut()\n",
    "\n",
    "\n",
    "* Calculate the numbers and percentages by age group\n",
    "\n",
    "\n",
    "* Create a summary data frame to hold the results\n",
    "\n",
    "\n",
    "* Optional: round the percentage column to two decimal points\n",
    "\n",
    "\n",
    "* Display Age Demographics Table\n"
   ]
  },
  {
   "cell_type": "code",
   "execution_count": 239,
   "metadata": {
    "scrolled": true
   },
   "outputs": [
    {
     "data": {
      "text/html": [
       "<style  type=\"text/css\" >\n",
       "</style><table id=\"T_58070c50_df1f_11e9_ada9_38f9d35637c2\" ><thead>    <tr>        <th class=\"blank level0\" ></th>        <th class=\"col_heading level0 col0\" >Total Count</th>        <th class=\"col_heading level0 col1\" >Percentage of Players</th>    </tr></thead><tbody>\n",
       "                <tr>\n",
       "                        <th id=\"T_58070c50_df1f_11e9_ada9_38f9d35637c2level0_row0\" class=\"row_heading level0 row0\" ><10</th>\n",
       "                        <td id=\"T_58070c50_df1f_11e9_ada9_38f9d35637c2row0_col0\" class=\"data row0 col0\" >24</td>\n",
       "                        <td id=\"T_58070c50_df1f_11e9_ada9_38f9d35637c2row0_col1\" class=\"data row0 col1\" >4.17%</td>\n",
       "            </tr>\n",
       "            <tr>\n",
       "                        <th id=\"T_58070c50_df1f_11e9_ada9_38f9d35637c2level0_row1\" class=\"row_heading level0 row1\" >10-14</th>\n",
       "                        <td id=\"T_58070c50_df1f_11e9_ada9_38f9d35637c2row1_col0\" class=\"data row1 col0\" >41</td>\n",
       "                        <td id=\"T_58070c50_df1f_11e9_ada9_38f9d35637c2row1_col1\" class=\"data row1 col1\" >7.12%</td>\n",
       "            </tr>\n",
       "            <tr>\n",
       "                        <th id=\"T_58070c50_df1f_11e9_ada9_38f9d35637c2level0_row2\" class=\"row_heading level0 row2\" >15-19</th>\n",
       "                        <td id=\"T_58070c50_df1f_11e9_ada9_38f9d35637c2row2_col0\" class=\"data row2 col0\" >150</td>\n",
       "                        <td id=\"T_58070c50_df1f_11e9_ada9_38f9d35637c2row2_col1\" class=\"data row2 col1\" >26.04%</td>\n",
       "            </tr>\n",
       "            <tr>\n",
       "                        <th id=\"T_58070c50_df1f_11e9_ada9_38f9d35637c2level0_row3\" class=\"row_heading level0 row3\" >20-24</th>\n",
       "                        <td id=\"T_58070c50_df1f_11e9_ada9_38f9d35637c2row3_col0\" class=\"data row3 col0\" >232</td>\n",
       "                        <td id=\"T_58070c50_df1f_11e9_ada9_38f9d35637c2row3_col1\" class=\"data row3 col1\" >40.28%</td>\n",
       "            </tr>\n",
       "            <tr>\n",
       "                        <th id=\"T_58070c50_df1f_11e9_ada9_38f9d35637c2level0_row4\" class=\"row_heading level0 row4\" >25-29</th>\n",
       "                        <td id=\"T_58070c50_df1f_11e9_ada9_38f9d35637c2row4_col0\" class=\"data row4 col0\" >59</td>\n",
       "                        <td id=\"T_58070c50_df1f_11e9_ada9_38f9d35637c2row4_col1\" class=\"data row4 col1\" >10.24%</td>\n",
       "            </tr>\n",
       "            <tr>\n",
       "                        <th id=\"T_58070c50_df1f_11e9_ada9_38f9d35637c2level0_row5\" class=\"row_heading level0 row5\" >30-34</th>\n",
       "                        <td id=\"T_58070c50_df1f_11e9_ada9_38f9d35637c2row5_col0\" class=\"data row5 col0\" >37</td>\n",
       "                        <td id=\"T_58070c50_df1f_11e9_ada9_38f9d35637c2row5_col1\" class=\"data row5 col1\" >6.42%</td>\n",
       "            </tr>\n",
       "            <tr>\n",
       "                        <th id=\"T_58070c50_df1f_11e9_ada9_38f9d35637c2level0_row6\" class=\"row_heading level0 row6\" >35-39</th>\n",
       "                        <td id=\"T_58070c50_df1f_11e9_ada9_38f9d35637c2row6_col0\" class=\"data row6 col0\" >26</td>\n",
       "                        <td id=\"T_58070c50_df1f_11e9_ada9_38f9d35637c2row6_col1\" class=\"data row6 col1\" >4.51%</td>\n",
       "            </tr>\n",
       "            <tr>\n",
       "                        <th id=\"T_58070c50_df1f_11e9_ada9_38f9d35637c2level0_row7\" class=\"row_heading level0 row7\" >40+</th>\n",
       "                        <td id=\"T_58070c50_df1f_11e9_ada9_38f9d35637c2row7_col0\" class=\"data row7 col0\" >7</td>\n",
       "                        <td id=\"T_58070c50_df1f_11e9_ada9_38f9d35637c2row7_col1\" class=\"data row7 col1\" >1.22%</td>\n",
       "            </tr>\n",
       "    </tbody></table>"
      ],
      "text/plain": [
       "<pandas.io.formats.style.Styler at 0x118249be0>"
      ]
     },
     "execution_count": 239,
     "metadata": {},
     "output_type": "execute_result"
    }
   ],
   "source": [
    "df = pd.DataFrame(purchase_data_df)\n",
    "\n",
    "#Bins for Ages\n",
    "bins = [0,10,15,20,25,30,35,40,200]\n",
    "\n",
    "#Group Labels\n",
    "group_labels = [\"<10\", \"10-14\", \"15-19\", \"20-24\", \"25-29\", \"30-34\", \"35-39\", \"40+\"]\n",
    "\n",
    "#Sort into Bins\n",
    "pd.cut(purchase_data_df[\"Age\"], bins, labels=group_labels).head()\n",
    "\n",
    "purchase_data_df[\"Age Groups\"] = pd.cut(purchase_data_df[\"Age\"], bins, labels=group_labels)\n",
    "purchase_data_df.head()\n",
    "\n",
    "#Groupby for Age Groups\n",
    "age_grouped = purchase_data_df.groupby(\"Age Groups\")\n",
    "#Count total players by SN\n",
    "total_count_age = age_grouped[\"SN\"].nunique()\n",
    "#Calculate percentages \n",
    "percentage_by_age = (total_count_age/total_count) * 100\n",
    "#Create DF with values\n",
    "age_demographics = pd.DataFrame({\"Total Count\": total_count_age, \"Percentage of Players\": percentage_by_age, })\n",
    "#No index\n",
    "age_demographics.index.name = None\n",
    "#Format 2 decimal places\n",
    "age_demographics.style.format({\"Percentage of Players\":\"{:,.2f}%\"})\n",
    "\n",
    "\n"
   ]
  },
  {
   "cell_type": "markdown",
   "metadata": {},
   "source": [
    "## Purchasing Analysis (Age)"
   ]
  },
  {
   "cell_type": "markdown",
   "metadata": {},
   "source": [
    "* Bin the purchase_data data frame by age\n",
    "\n",
    "\n",
    "* Run basic calculations to obtain purchase count, avg. purchase price, avg. purchase total per person etc. in the table below\n",
    "\n",
    "\n",
    "* Create a summary data frame to hold the results\n",
    "\n",
    "\n",
    "* Optional: give the displayed data cleaner formatting\n",
    "\n",
    "\n",
    "* Display the summary data frame"
   ]
  },
  {
   "cell_type": "code",
   "execution_count": 240,
   "metadata": {},
   "outputs": [
    {
     "data": {
      "text/html": [
       "<style  type=\"text/css\" >\n",
       "</style><table id=\"T_58f315fa_df1f_11e9_ada9_38f9d35637c2\" ><thead>    <tr>        <th class=\"blank level0\" ></th>        <th class=\"col_heading level0 col0\" >Purchase Count</th>        <th class=\"col_heading level0 col1\" >Average Purchase Price</th>        <th class=\"col_heading level0 col2\" >Total Purchase Value</th>        <th class=\"col_heading level0 col3\" >Average Purchase Total per Person</th>    </tr></thead><tbody>\n",
       "                <tr>\n",
       "                        <th id=\"T_58f315fa_df1f_11e9_ada9_38f9d35637c2level0_row0\" class=\"row_heading level0 row0\" ><10</th>\n",
       "                        <td id=\"T_58f315fa_df1f_11e9_ada9_38f9d35637c2row0_col0\" class=\"data row0 col0\" >24</td>\n",
       "                        <td id=\"T_58f315fa_df1f_11e9_ada9_38f9d35637c2row0_col1\" class=\"data row0 col1\" >$3.40</td>\n",
       "                        <td id=\"T_58f315fa_df1f_11e9_ada9_38f9d35637c2row0_col2\" class=\"data row0 col2\" >$108.96</td>\n",
       "                        <td id=\"T_58f315fa_df1f_11e9_ada9_38f9d35637c2row0_col3\" class=\"data row0 col3\" >$4.54</td>\n",
       "            </tr>\n",
       "            <tr>\n",
       "                        <th id=\"T_58f315fa_df1f_11e9_ada9_38f9d35637c2level0_row1\" class=\"row_heading level0 row1\" >10-14</th>\n",
       "                        <td id=\"T_58f315fa_df1f_11e9_ada9_38f9d35637c2row1_col0\" class=\"data row1 col0\" >41</td>\n",
       "                        <td id=\"T_58f315fa_df1f_11e9_ada9_38f9d35637c2row1_col1\" class=\"data row1 col1\" >$2.90</td>\n",
       "                        <td id=\"T_58f315fa_df1f_11e9_ada9_38f9d35637c2row1_col2\" class=\"data row1 col2\" >$156.60</td>\n",
       "                        <td id=\"T_58f315fa_df1f_11e9_ada9_38f9d35637c2row1_col3\" class=\"data row1 col3\" >$3.82</td>\n",
       "            </tr>\n",
       "            <tr>\n",
       "                        <th id=\"T_58f315fa_df1f_11e9_ada9_38f9d35637c2level0_row2\" class=\"row_heading level0 row2\" >15-19</th>\n",
       "                        <td id=\"T_58f315fa_df1f_11e9_ada9_38f9d35637c2row2_col0\" class=\"data row2 col0\" >150</td>\n",
       "                        <td id=\"T_58f315fa_df1f_11e9_ada9_38f9d35637c2row2_col1\" class=\"data row2 col1\" >$3.11</td>\n",
       "                        <td id=\"T_58f315fa_df1f_11e9_ada9_38f9d35637c2row2_col2\" class=\"data row2 col2\" >$621.56</td>\n",
       "                        <td id=\"T_58f315fa_df1f_11e9_ada9_38f9d35637c2row2_col3\" class=\"data row2 col3\" >$4.14</td>\n",
       "            </tr>\n",
       "            <tr>\n",
       "                        <th id=\"T_58f315fa_df1f_11e9_ada9_38f9d35637c2level0_row3\" class=\"row_heading level0 row3\" >20-24</th>\n",
       "                        <td id=\"T_58f315fa_df1f_11e9_ada9_38f9d35637c2row3_col0\" class=\"data row3 col0\" >232</td>\n",
       "                        <td id=\"T_58f315fa_df1f_11e9_ada9_38f9d35637c2row3_col1\" class=\"data row3 col1\" >$3.02</td>\n",
       "                        <td id=\"T_58f315fa_df1f_11e9_ada9_38f9d35637c2row3_col2\" class=\"data row3 col2\" >$981.64</td>\n",
       "                        <td id=\"T_58f315fa_df1f_11e9_ada9_38f9d35637c2row3_col3\" class=\"data row3 col3\" >$4.23</td>\n",
       "            </tr>\n",
       "            <tr>\n",
       "                        <th id=\"T_58f315fa_df1f_11e9_ada9_38f9d35637c2level0_row4\" class=\"row_heading level0 row4\" >25-29</th>\n",
       "                        <td id=\"T_58f315fa_df1f_11e9_ada9_38f9d35637c2row4_col0\" class=\"data row4 col0\" >59</td>\n",
       "                        <td id=\"T_58f315fa_df1f_11e9_ada9_38f9d35637c2row4_col1\" class=\"data row4 col1\" >$2.88</td>\n",
       "                        <td id=\"T_58f315fa_df1f_11e9_ada9_38f9d35637c2row4_col2\" class=\"data row4 col2\" >$221.42</td>\n",
       "                        <td id=\"T_58f315fa_df1f_11e9_ada9_38f9d35637c2row4_col3\" class=\"data row4 col3\" >$3.75</td>\n",
       "            </tr>\n",
       "            <tr>\n",
       "                        <th id=\"T_58f315fa_df1f_11e9_ada9_38f9d35637c2level0_row5\" class=\"row_heading level0 row5\" >30-34</th>\n",
       "                        <td id=\"T_58f315fa_df1f_11e9_ada9_38f9d35637c2row5_col0\" class=\"data row5 col0\" >37</td>\n",
       "                        <td id=\"T_58f315fa_df1f_11e9_ada9_38f9d35637c2row5_col1\" class=\"data row5 col1\" >$2.99</td>\n",
       "                        <td id=\"T_58f315fa_df1f_11e9_ada9_38f9d35637c2row5_col2\" class=\"data row5 col2\" >$155.71</td>\n",
       "                        <td id=\"T_58f315fa_df1f_11e9_ada9_38f9d35637c2row5_col3\" class=\"data row5 col3\" >$4.21</td>\n",
       "            </tr>\n",
       "            <tr>\n",
       "                        <th id=\"T_58f315fa_df1f_11e9_ada9_38f9d35637c2level0_row6\" class=\"row_heading level0 row6\" >35-39</th>\n",
       "                        <td id=\"T_58f315fa_df1f_11e9_ada9_38f9d35637c2row6_col0\" class=\"data row6 col0\" >26</td>\n",
       "                        <td id=\"T_58f315fa_df1f_11e9_ada9_38f9d35637c2row6_col1\" class=\"data row6 col1\" >$3.40</td>\n",
       "                        <td id=\"T_58f315fa_df1f_11e9_ada9_38f9d35637c2row6_col2\" class=\"data row6 col2\" >$112.35</td>\n",
       "                        <td id=\"T_58f315fa_df1f_11e9_ada9_38f9d35637c2row6_col3\" class=\"data row6 col3\" >$4.32</td>\n",
       "            </tr>\n",
       "            <tr>\n",
       "                        <th id=\"T_58f315fa_df1f_11e9_ada9_38f9d35637c2level0_row7\" class=\"row_heading level0 row7\" >40+</th>\n",
       "                        <td id=\"T_58f315fa_df1f_11e9_ada9_38f9d35637c2row7_col0\" class=\"data row7 col0\" >7</td>\n",
       "                        <td id=\"T_58f315fa_df1f_11e9_ada9_38f9d35637c2row7_col1\" class=\"data row7 col1\" >$3.08</td>\n",
       "                        <td id=\"T_58f315fa_df1f_11e9_ada9_38f9d35637c2row7_col2\" class=\"data row7 col2\" >$21.53</td>\n",
       "                        <td id=\"T_58f315fa_df1f_11e9_ada9_38f9d35637c2row7_col3\" class=\"data row7 col3\" >$3.08</td>\n",
       "            </tr>\n",
       "    </tbody></table>"
      ],
      "text/plain": [
       "<pandas.io.formats.style.Styler at 0x117b37208>"
      ]
     },
     "execution_count": 240,
     "metadata": {},
     "output_type": "execute_result"
    }
   ],
   "source": [
    "#Count Purchase by age group\n",
    "purchase_count_age = age_group[\"SN\"].nunique()\n",
    "#Average purchase price by age group \n",
    "avg_purchase_price_age = age_group[\"Price\"].mean()\n",
    "#Total purchase value by age group \n",
    "total_purchase_value = age_group[\"Price\"].sum()\n",
    "#Average purchase per person \n",
    "avg_purchase_per_person_age = total_purchase_value/total_count_age\n",
    "#Create DF with values\n",
    "age_demographics = pd.DataFrame({\"Purchase Count\": purchase_count_age,\n",
    "                                 \"Average Purchase Price\": avg_purchase_price_age,\n",
    "                                 \"Total Purchase Value\":total_purchase_value,\n",
    "                                 \"Average Purchase Total per Person\": avg_purchase_per_person_age})\n",
    "#No index\n",
    "age_demographics.index.name = None\n",
    "#Cleaner Format\n",
    "age_demographics.style.format({\"Average Purchase Price\":\"${:,.2f}\",\n",
    "                               \"Total Purchase Value\":\"${:,.2f}\",\n",
    "                               \"Average Purchase Total per Person\":\"${:,.2f}\"})"
   ]
  },
  {
   "cell_type": "markdown",
   "metadata": {},
   "source": [
    "## Top Spenders"
   ]
  },
  {
   "cell_type": "markdown",
   "metadata": {},
   "source": [
    "* Run basic calculations to obtain the results in the table below\n",
    "\n",
    "\n",
    "* Create a summary data frame to hold the results\n",
    "\n",
    "\n",
    "* Sort the total purchase value column in descending order\n",
    "\n",
    "\n",
    "* Optional: give the displayed data cleaner formatting\n",
    "\n",
    "\n",
    "* Display a preview of the summary data frame\n",
    "\n"
   ]
  },
  {
   "cell_type": "code",
   "execution_count": 241,
   "metadata": {},
   "outputs": [
    {
     "data": {
      "text/html": [
       "<style  type=\"text/css\" >\n",
       "</style><table id=\"T_59d7e07c_df1f_11e9_ada9_38f9d35637c2\" ><thead>    <tr>        <th class=\"blank level0\" ></th>        <th class=\"col_heading level0 col0\" >Purchase Count</th>        <th class=\"col_heading level0 col1\" >Average Purchase Price</th>        <th class=\"col_heading level0 col2\" >Total Purchase Value</th>    </tr>    <tr>        <th class=\"index_name level0\" >SN</th>        <th class=\"blank\" ></th>        <th class=\"blank\" ></th>        <th class=\"blank\" ></th>    </tr></thead><tbody>\n",
       "                <tr>\n",
       "                        <th id=\"T_59d7e07c_df1f_11e9_ada9_38f9d35637c2level0_row0\" class=\"row_heading level0 row0\" >Lisosia93</th>\n",
       "                        <td id=\"T_59d7e07c_df1f_11e9_ada9_38f9d35637c2row0_col0\" class=\"data row0 col0\" >5</td>\n",
       "                        <td id=\"T_59d7e07c_df1f_11e9_ada9_38f9d35637c2row0_col1\" class=\"data row0 col1\" >$3.79</td>\n",
       "                        <td id=\"T_59d7e07c_df1f_11e9_ada9_38f9d35637c2row0_col2\" class=\"data row0 col2\" >$18.96</td>\n",
       "            </tr>\n",
       "            <tr>\n",
       "                        <th id=\"T_59d7e07c_df1f_11e9_ada9_38f9d35637c2level0_row1\" class=\"row_heading level0 row1\" >Idastidru52</th>\n",
       "                        <td id=\"T_59d7e07c_df1f_11e9_ada9_38f9d35637c2row1_col0\" class=\"data row1 col0\" >4</td>\n",
       "                        <td id=\"T_59d7e07c_df1f_11e9_ada9_38f9d35637c2row1_col1\" class=\"data row1 col1\" >$3.86</td>\n",
       "                        <td id=\"T_59d7e07c_df1f_11e9_ada9_38f9d35637c2row1_col2\" class=\"data row1 col2\" >$15.45</td>\n",
       "            </tr>\n",
       "            <tr>\n",
       "                        <th id=\"T_59d7e07c_df1f_11e9_ada9_38f9d35637c2level0_row2\" class=\"row_heading level0 row2\" >Chamjask73</th>\n",
       "                        <td id=\"T_59d7e07c_df1f_11e9_ada9_38f9d35637c2row2_col0\" class=\"data row2 col0\" >3</td>\n",
       "                        <td id=\"T_59d7e07c_df1f_11e9_ada9_38f9d35637c2row2_col1\" class=\"data row2 col1\" >$4.61</td>\n",
       "                        <td id=\"T_59d7e07c_df1f_11e9_ada9_38f9d35637c2row2_col2\" class=\"data row2 col2\" >$13.83</td>\n",
       "            </tr>\n",
       "            <tr>\n",
       "                        <th id=\"T_59d7e07c_df1f_11e9_ada9_38f9d35637c2level0_row3\" class=\"row_heading level0 row3\" >Iral74</th>\n",
       "                        <td id=\"T_59d7e07c_df1f_11e9_ada9_38f9d35637c2row3_col0\" class=\"data row3 col0\" >4</td>\n",
       "                        <td id=\"T_59d7e07c_df1f_11e9_ada9_38f9d35637c2row3_col1\" class=\"data row3 col1\" >$3.40</td>\n",
       "                        <td id=\"T_59d7e07c_df1f_11e9_ada9_38f9d35637c2row3_col2\" class=\"data row3 col2\" >$13.62</td>\n",
       "            </tr>\n",
       "            <tr>\n",
       "                        <th id=\"T_59d7e07c_df1f_11e9_ada9_38f9d35637c2level0_row4\" class=\"row_heading level0 row4\" >Iskadarya95</th>\n",
       "                        <td id=\"T_59d7e07c_df1f_11e9_ada9_38f9d35637c2row4_col0\" class=\"data row4 col0\" >3</td>\n",
       "                        <td id=\"T_59d7e07c_df1f_11e9_ada9_38f9d35637c2row4_col1\" class=\"data row4 col1\" >$4.37</td>\n",
       "                        <td id=\"T_59d7e07c_df1f_11e9_ada9_38f9d35637c2row4_col2\" class=\"data row4 col2\" >$13.10</td>\n",
       "            </tr>\n",
       "    </tbody></table>"
      ],
      "text/plain": [
       "<pandas.io.formats.style.Styler at 0x117ff7588>"
      ]
     },
     "execution_count": 241,
     "metadata": {},
     "output_type": "execute_result"
    }
   ],
   "source": [
    "#Groupby SN\n",
    "top_spenders = purchase_data_df.groupby(\"SN\")\n",
    "#Count total purchase by Purchase ID\n",
    "purchase_count_spender = top_spenders[\"Purchase ID\"].count()\n",
    "#Average purchase by name\n",
    "avg_purchase_price_spender = top_spenders[\"Price\"].mean()\n",
    "#Purchase total\n",
    "purchase_total_spender = top_spenders[\"Price\"].sum()\n",
    "#Create DF with values\n",
    "highest_spenders = pd.DataFrame({\"Purchase Count\": purchase_count_spender,\n",
    "                             \"Average Purchase Price\": avg_purchase_price_spender,\n",
    "                             \"Total Purchase Value\":purchase_total_spender})\n",
    "#Descending order sorted\n",
    "format_spenders = highest_spenders.sort_values([\"Total Purchase Value\"], ascending=False).head()\n",
    "#Clean Format\n",
    "format_spenders.style.format({\"Average Purchase Total\":\"${:,.2f}\",\n",
    "                                 \"Average Purchase Price\":\"${:,.2f}\", \n",
    "                                 \"Total Purchase Value\":\"${:,.2f}\"})"
   ]
  },
  {
   "cell_type": "markdown",
   "metadata": {},
   "source": [
    "## Most Popular Items"
   ]
  },
  {
   "cell_type": "markdown",
   "metadata": {},
   "source": [
    "* Retrieve the Item ID, Item Name, and Item Price columns\n",
    "\n",
    "\n",
    "* Group by Item ID and Item Name. Perform calculations to obtain purchase count, item price, and total purchase value\n",
    "\n",
    "\n",
    "* Create a summary data frame to hold the results\n",
    "\n",
    "\n",
    "* Sort the purchase count column in descending order\n",
    "\n",
    "\n",
    "* Optional: give the displayed data cleaner formatting\n",
    "\n",
    "\n",
    "* Display a preview of the summary data frame\n",
    "\n"
   ]
  },
  {
   "cell_type": "code",
   "execution_count": 242,
   "metadata": {},
   "outputs": [
    {
     "data": {
      "text/html": [
       "<style  type=\"text/css\" >\n",
       "</style><table id=\"T_5ac09c04_df1f_11e9_ada9_38f9d35637c2\" ><thead>    <tr>        <th class=\"blank\" ></th>        <th class=\"blank level0\" ></th>        <th class=\"col_heading level0 col0\" >Purchase Count</th>        <th class=\"col_heading level0 col1\" >Item Price</th>        <th class=\"col_heading level0 col2\" >Total Purchase Value</th>    </tr>    <tr>        <th class=\"index_name level0\" >Item ID</th>        <th class=\"index_name level1\" >Item Name</th>        <th class=\"blank\" ></th>        <th class=\"blank\" ></th>        <th class=\"blank\" ></th>    </tr></thead><tbody>\n",
       "                <tr>\n",
       "                        <th id=\"T_5ac09c04_df1f_11e9_ada9_38f9d35637c2level0_row0\" class=\"row_heading level0 row0\" >178</th>\n",
       "                        <th id=\"T_5ac09c04_df1f_11e9_ada9_38f9d35637c2level1_row0\" class=\"row_heading level1 row0\" >Oathbreaker, Last Hope of the Breaking Storm</th>\n",
       "                        <td id=\"T_5ac09c04_df1f_11e9_ada9_38f9d35637c2row0_col0\" class=\"data row0 col0\" >12</td>\n",
       "                        <td id=\"T_5ac09c04_df1f_11e9_ada9_38f9d35637c2row0_col1\" class=\"data row0 col1\" >$4.23</td>\n",
       "                        <td id=\"T_5ac09c04_df1f_11e9_ada9_38f9d35637c2row0_col2\" class=\"data row0 col2\" >$50.76</td>\n",
       "            </tr>\n",
       "            <tr>\n",
       "                        <th id=\"T_5ac09c04_df1f_11e9_ada9_38f9d35637c2level0_row1\" class=\"row_heading level0 row1\" >145</th>\n",
       "                        <th id=\"T_5ac09c04_df1f_11e9_ada9_38f9d35637c2level1_row1\" class=\"row_heading level1 row1\" >Fiery Glass Crusader</th>\n",
       "                        <td id=\"T_5ac09c04_df1f_11e9_ada9_38f9d35637c2row1_col0\" class=\"data row1 col0\" >9</td>\n",
       "                        <td id=\"T_5ac09c04_df1f_11e9_ada9_38f9d35637c2row1_col1\" class=\"data row1 col1\" >$4.58</td>\n",
       "                        <td id=\"T_5ac09c04_df1f_11e9_ada9_38f9d35637c2row1_col2\" class=\"data row1 col2\" >$41.22</td>\n",
       "            </tr>\n",
       "            <tr>\n",
       "                        <th id=\"T_5ac09c04_df1f_11e9_ada9_38f9d35637c2level0_row2\" class=\"row_heading level0 row2\" >108</th>\n",
       "                        <th id=\"T_5ac09c04_df1f_11e9_ada9_38f9d35637c2level1_row2\" class=\"row_heading level1 row2\" >Extraction, Quickblade Of Trembling Hands</th>\n",
       "                        <td id=\"T_5ac09c04_df1f_11e9_ada9_38f9d35637c2row2_col0\" class=\"data row2 col0\" >9</td>\n",
       "                        <td id=\"T_5ac09c04_df1f_11e9_ada9_38f9d35637c2row2_col1\" class=\"data row2 col1\" >$3.53</td>\n",
       "                        <td id=\"T_5ac09c04_df1f_11e9_ada9_38f9d35637c2row2_col2\" class=\"data row2 col2\" >$31.77</td>\n",
       "            </tr>\n",
       "            <tr>\n",
       "                        <th id=\"T_5ac09c04_df1f_11e9_ada9_38f9d35637c2level0_row3\" class=\"row_heading level0 row3\" >82</th>\n",
       "                        <th id=\"T_5ac09c04_df1f_11e9_ada9_38f9d35637c2level1_row3\" class=\"row_heading level1 row3\" >Nirvana</th>\n",
       "                        <td id=\"T_5ac09c04_df1f_11e9_ada9_38f9d35637c2row3_col0\" class=\"data row3 col0\" >9</td>\n",
       "                        <td id=\"T_5ac09c04_df1f_11e9_ada9_38f9d35637c2row3_col1\" class=\"data row3 col1\" >$4.90</td>\n",
       "                        <td id=\"T_5ac09c04_df1f_11e9_ada9_38f9d35637c2row3_col2\" class=\"data row3 col2\" >$44.10</td>\n",
       "            </tr>\n",
       "            <tr>\n",
       "                        <th id=\"T_5ac09c04_df1f_11e9_ada9_38f9d35637c2level0_row4\" class=\"row_heading level0 row4\" >19</th>\n",
       "                        <th id=\"T_5ac09c04_df1f_11e9_ada9_38f9d35637c2level1_row4\" class=\"row_heading level1 row4\" >Pursuit, Cudgel of Necromancy</th>\n",
       "                        <td id=\"T_5ac09c04_df1f_11e9_ada9_38f9d35637c2row4_col0\" class=\"data row4 col0\" >8</td>\n",
       "                        <td id=\"T_5ac09c04_df1f_11e9_ada9_38f9d35637c2row4_col1\" class=\"data row4 col1\" >$1.02</td>\n",
       "                        <td id=\"T_5ac09c04_df1f_11e9_ada9_38f9d35637c2row4_col2\" class=\"data row4 col2\" >$8.16</td>\n",
       "            </tr>\n",
       "    </tbody></table>"
      ],
      "text/plain": [
       "<pandas.io.formats.style.Styler at 0x117b37e48>"
      ]
     },
     "execution_count": 242,
     "metadata": {},
     "output_type": "execute_result"
    }
   ],
   "source": [
    "#Create DF with requested columns\n",
    "items = purchase_data_df[[\"Item ID\", \"Item Name\", \"Price\"]]\n",
    "#Groupby Item ID and Name\n",
    "item_stats = items.groupby([\"Item ID\",\"Item Name\"])\n",
    "#Count how many times item purchased\n",
    "purchase_count_item = item_stats[\"Price\"].count()\n",
    "#Purchase value per item\n",
    "purchase_value = (item_stats[\"Price\"].sum()) \n",
    "#Individual item price\n",
    "item_price = purchase_value/purchase_count_item\n",
    "#Create DF with values\n",
    "most_popular_items = pd.DataFrame({\"Purchase Count\": purchase_count_item, \n",
    "                                   \"Item Price\": item_price,\n",
    "                                   \"Total Purchase Value\":purchase_value})\n",
    "#Sort purchase count column descending\n",
    "popular_format = most_popular_items.sort_values([\"Purchase Count\"], ascending=False).head()\n",
    "#Clean Format\n",
    "popular_format.style.format({\"Item Price\":\"${:,.2f}\",\n",
    "                             \"Total Purchase Value\":\"${:,.2f}\"})"
   ]
  },
  {
   "cell_type": "markdown",
   "metadata": {},
   "source": [
    "## Most Profitable Items"
   ]
  },
  {
   "cell_type": "markdown",
   "metadata": {},
   "source": [
    "* Sort the above table by total purchase value in descending order\n",
    "\n",
    "\n",
    "* Optional: give the displayed data cleaner formatting\n",
    "\n",
    "\n",
    "* Display a preview of the data frame\n",
    "\n"
   ]
  },
  {
   "cell_type": "code",
   "execution_count": 243,
   "metadata": {
    "scrolled": true
   },
   "outputs": [
    {
     "data": {
      "text/html": [
       "<style  type=\"text/css\" >\n",
       "</style><table id=\"T_5baf2d74_df1f_11e9_ada9_38f9d35637c2\" ><thead>    <tr>        <th class=\"blank\" ></th>        <th class=\"blank level0\" ></th>        <th class=\"col_heading level0 col0\" >Purchase Count</th>        <th class=\"col_heading level0 col1\" >Item Price</th>        <th class=\"col_heading level0 col2\" >Total Purchase Value</th>    </tr>    <tr>        <th class=\"index_name level0\" >Item ID</th>        <th class=\"index_name level1\" >Item Name</th>        <th class=\"blank\" ></th>        <th class=\"blank\" ></th>        <th class=\"blank\" ></th>    </tr></thead><tbody>\n",
       "                <tr>\n",
       "                        <th id=\"T_5baf2d74_df1f_11e9_ada9_38f9d35637c2level0_row0\" class=\"row_heading level0 row0\" >178</th>\n",
       "                        <th id=\"T_5baf2d74_df1f_11e9_ada9_38f9d35637c2level1_row0\" class=\"row_heading level1 row0\" >Oathbreaker, Last Hope of the Breaking Storm</th>\n",
       "                        <td id=\"T_5baf2d74_df1f_11e9_ada9_38f9d35637c2row0_col0\" class=\"data row0 col0\" >12</td>\n",
       "                        <td id=\"T_5baf2d74_df1f_11e9_ada9_38f9d35637c2row0_col1\" class=\"data row0 col1\" >$4.23</td>\n",
       "                        <td id=\"T_5baf2d74_df1f_11e9_ada9_38f9d35637c2row0_col2\" class=\"data row0 col2\" >$50.76</td>\n",
       "            </tr>\n",
       "            <tr>\n",
       "                        <th id=\"T_5baf2d74_df1f_11e9_ada9_38f9d35637c2level0_row1\" class=\"row_heading level0 row1\" >82</th>\n",
       "                        <th id=\"T_5baf2d74_df1f_11e9_ada9_38f9d35637c2level1_row1\" class=\"row_heading level1 row1\" >Nirvana</th>\n",
       "                        <td id=\"T_5baf2d74_df1f_11e9_ada9_38f9d35637c2row1_col0\" class=\"data row1 col0\" >9</td>\n",
       "                        <td id=\"T_5baf2d74_df1f_11e9_ada9_38f9d35637c2row1_col1\" class=\"data row1 col1\" >$4.90</td>\n",
       "                        <td id=\"T_5baf2d74_df1f_11e9_ada9_38f9d35637c2row1_col2\" class=\"data row1 col2\" >$44.10</td>\n",
       "            </tr>\n",
       "            <tr>\n",
       "                        <th id=\"T_5baf2d74_df1f_11e9_ada9_38f9d35637c2level0_row2\" class=\"row_heading level0 row2\" >145</th>\n",
       "                        <th id=\"T_5baf2d74_df1f_11e9_ada9_38f9d35637c2level1_row2\" class=\"row_heading level1 row2\" >Fiery Glass Crusader</th>\n",
       "                        <td id=\"T_5baf2d74_df1f_11e9_ada9_38f9d35637c2row2_col0\" class=\"data row2 col0\" >9</td>\n",
       "                        <td id=\"T_5baf2d74_df1f_11e9_ada9_38f9d35637c2row2_col1\" class=\"data row2 col1\" >$4.58</td>\n",
       "                        <td id=\"T_5baf2d74_df1f_11e9_ada9_38f9d35637c2row2_col2\" class=\"data row2 col2\" >$41.22</td>\n",
       "            </tr>\n",
       "            <tr>\n",
       "                        <th id=\"T_5baf2d74_df1f_11e9_ada9_38f9d35637c2level0_row3\" class=\"row_heading level0 row3\" >92</th>\n",
       "                        <th id=\"T_5baf2d74_df1f_11e9_ada9_38f9d35637c2level1_row3\" class=\"row_heading level1 row3\" >Final Critic</th>\n",
       "                        <td id=\"T_5baf2d74_df1f_11e9_ada9_38f9d35637c2row3_col0\" class=\"data row3 col0\" >8</td>\n",
       "                        <td id=\"T_5baf2d74_df1f_11e9_ada9_38f9d35637c2row3_col1\" class=\"data row3 col1\" >$4.88</td>\n",
       "                        <td id=\"T_5baf2d74_df1f_11e9_ada9_38f9d35637c2row3_col2\" class=\"data row3 col2\" >$39.04</td>\n",
       "            </tr>\n",
       "            <tr>\n",
       "                        <th id=\"T_5baf2d74_df1f_11e9_ada9_38f9d35637c2level0_row4\" class=\"row_heading level0 row4\" >103</th>\n",
       "                        <th id=\"T_5baf2d74_df1f_11e9_ada9_38f9d35637c2level1_row4\" class=\"row_heading level1 row4\" >Singed Scalpel</th>\n",
       "                        <td id=\"T_5baf2d74_df1f_11e9_ada9_38f9d35637c2row4_col0\" class=\"data row4 col0\" >8</td>\n",
       "                        <td id=\"T_5baf2d74_df1f_11e9_ada9_38f9d35637c2row4_col1\" class=\"data row4 col1\" >$4.35</td>\n",
       "                        <td id=\"T_5baf2d74_df1f_11e9_ada9_38f9d35637c2row4_col2\" class=\"data row4 col2\" >$34.80</td>\n",
       "            </tr>\n",
       "    </tbody></table>"
      ],
      "text/plain": [
       "<pandas.io.formats.style.Styler at 0x117b222b0>"
      ]
     },
     "execution_count": 243,
     "metadata": {},
     "output_type": "execute_result"
    }
   ],
   "source": [
    "#Take above DF and change to find highest total purchase value\n",
    "popular_format = most_popular_items.sort_values([\"Total Purchase Value\"],\n",
    "#Clean Format                                                   ascending=False).head()\n",
    "popular_format.style.format({\"Item Price\":\"${:,.2f}\",\n",
    "                                \"Total Purchase Value\":\"${:,.2f}\"})"
   ]
  },
  {
   "cell_type": "code",
   "execution_count": null,
   "metadata": {},
   "outputs": [],
   "source": [
    "#Observable Trends\n",
    "#1. 84% of the people playing the game were male. This was not to surprising seeing how gaming is a male \n",
    "#   dominated hobby.\n",
    "#2. Even though the game is free to play, there was still a significant amount of purchases across all ages\n",
    "#   and genders. This can be enticing to video game creators for future developments of more games. You get\n",
    "#   a lot of downloads and players,they naturally want to compete and keep up with everyone else. So \n",
    "#   what you lose in purchase price of players buying the game. It is possible to make up for it with in game\n",
    "#   purchases.\n",
    "#3. The profitable items were the most expensive items even though they were not purchased as much. The price \n",
    "#   being so elevated brought in the most money for those items."
   ]
  },
  {
   "cell_type": "code",
   "execution_count": null,
   "metadata": {},
   "outputs": [],
   "source": []
  }
 ],
 "metadata": {
  "anaconda-cloud": {},
  "kernel_info": {
   "name": "python3"
  },
  "kernelspec": {
   "display_name": "Python 3",
   "language": "python",
   "name": "python3"
  },
  "language_info": {
   "codemirror_mode": {
    "name": "ipython",
    "version": 3
   },
   "file_extension": ".py",
   "mimetype": "text/x-python",
   "name": "python",
   "nbconvert_exporter": "python",
   "pygments_lexer": "ipython3",
   "version": "3.7.3"
  },
  "latex_envs": {
   "LaTeX_envs_menu_present": true,
   "autoclose": false,
   "autocomplete": true,
   "bibliofile": "biblio.bib",
   "cite_by": "apalike",
   "current_citInitial": 1,
   "eqLabelWithNumbers": true,
   "eqNumInitial": 1,
   "hotkeys": {
    "equation": "Ctrl-E",
    "itemize": "Ctrl-I"
   },
   "labels_anchors": false,
   "latex_user_defs": false,
   "report_style_numbering": false,
   "user_envs_cfg": false
  },
  "nteract": {
   "version": "0.2.0"
  }
 },
 "nbformat": 4,
 "nbformat_minor": 2
}
